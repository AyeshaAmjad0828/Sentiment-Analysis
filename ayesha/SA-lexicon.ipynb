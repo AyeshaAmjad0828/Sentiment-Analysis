{
 "cells": [
  {
   "cell_type": "code",
   "execution_count": 1,
   "metadata": {},
   "outputs": [],
   "source": [
    "import pandas as pd\n",
    "from nltk.corpus import sentiwordnet as swn\n",
    "from nltk.corpus import wordnet as wn\n",
    "from nltk.tokenize import word_tokenize\n",
    "from nltk import pos_tag\n",
    "from nltk.sentiment import SentimentIntensityAnalyzer\n",
    "from sklearn.metrics import accuracy_score"
   ]
  },
  {
   "cell_type": "code",
   "execution_count": 2,
   "metadata": {},
   "outputs": [],
   "source": [
    "#pip install nltk"
   ]
  },
  {
   "cell_type": "code",
   "execution_count": 3,
   "metadata": {},
   "outputs": [],
   "source": [
    "#pip install seaborn "
   ]
  },
  {
   "cell_type": "code",
   "execution_count": 4,
   "metadata": {},
   "outputs": [
    {
     "name": "stderr",
     "output_type": "stream",
     "text": [
      "[nltk_data] Downloading package vader_lexicon to\n",
      "[nltk_data]     C:\\Users\\ayesha.amjad\\AppData\\Roaming\\nltk_data...\n",
      "[nltk_data]   Package vader_lexicon is already up-to-date!\n",
      "[nltk_data] Downloading package punkt to\n",
      "[nltk_data]     C:\\Users\\ayesha.amjad\\AppData\\Roaming\\nltk_data...\n",
      "[nltk_data]   Package punkt is already up-to-date!\n",
      "[nltk_data] Downloading package sentiwordnet to\n",
      "[nltk_data]     C:\\Users\\ayesha.amjad\\AppData\\Roaming\\nltk_data...\n",
      "[nltk_data]   Package sentiwordnet is already up-to-date!\n",
      "[nltk_data] Downloading package wordnet to\n",
      "[nltk_data]     C:\\Users\\ayesha.amjad\\AppData\\Roaming\\nltk_data...\n",
      "[nltk_data]   Package wordnet is already up-to-date!\n",
      "[nltk_data] Downloading package averaged_perceptron_tagger to\n",
      "[nltk_data]     C:\\Users\\ayesha.amjad\\AppData\\Roaming\\nltk_data...\n",
      "[nltk_data]   Package averaged_perceptron_tagger is already up-to-\n",
      "[nltk_data]       date!\n"
     ]
    },
    {
     "data": {
      "text/plain": [
       "True"
      ]
     },
     "execution_count": 4,
     "metadata": {},
     "output_type": "execute_result"
    }
   ],
   "source": [
    "import nltk\n",
    "nltk.download('vader_lexicon')\n",
    "nltk.download('punkt')\n",
    "nltk.download('sentiwordnet')\n",
    "nltk.download('wordnet')\n",
    "nltk.download('averaged_perceptron_tagger')"
   ]
  },
  {
   "cell_type": "code",
   "execution_count": 6,
   "metadata": {},
   "outputs": [],
   "source": [
    "def get_wordnet_pos(treebank_tag):\n",
    "    if treebank_tag.startswith('J'):\n",
    "        return wn.ADJ\n",
    "    elif treebank_tag.startswith('V'):\n",
    "        return wn.VERB\n",
    "    elif treebank_tag.startswith('N'):\n",
    "        return wn.NOUN\n",
    "    elif treebank_tag.startswith('R'):\n",
    "        return wn.ADV\n",
    "    else:\n",
    "        return ''\n",
    "\n",
    "def get_sentiment_score(word, pos):\n",
    "    synsets = list(wn.synsets(word, pos))\n",
    "    if not synsets:\n",
    "        return 0.0\n",
    "    senti_synsets = list(swn.senti_synsets(word, pos))\n",
    "    if not senti_synsets:\n",
    "        return 0.0\n",
    "    sentiment_score = sum([s.pos_score() - s.neg_score() for s in senti_synsets])\n",
    "    return sentiment_score / len(senti_synsets)\n",
    "\n",
    "def analyze_sentiment(text):\n",
    "    words = word_tokenize(text)\n",
    "    tagged_words = pos_tag(words)\n",
    "    total_sentiment_score = 0.0\n",
    "    for word, pos in tagged_words:\n",
    "        pos = get_wordnet_pos(pos)\n",
    "        if pos:\n",
    "            sentiment_score = get_sentiment_score(word, pos)\n",
    "            total_sentiment_score += sentiment_score\n",
    "    return total_sentiment_score\n"
   ]
  },
  {
   "cell_type": "code",
   "execution_count": 7,
   "metadata": {},
   "outputs": [],
   "source": [
    "# load the dataset\n",
    "train_df = pd.read_csv('data/train.csv')\n",
    "test_df = pd.read_csv('data/test.csv')\n"
   ]
  },
  {
   "cell_type": "code",
   "execution_count": 8,
   "metadata": {},
   "outputs": [],
   "source": [
    "df = pd.concat([train_df, test_df], ignore_index=True)"
   ]
  },
  {
   "cell_type": "code",
   "execution_count": 9,
   "metadata": {},
   "outputs": [],
   "source": [
    "df['sentiment_score'] = df['review'].apply(analyze_sentiment)"
   ]
  },
  {
   "cell_type": "code",
   "execution_count": 10,
   "metadata": {},
   "outputs": [
    {
     "name": "stdout",
     "output_type": "stream",
     "text": [
      "                                                  review sentiment  \\\n",
      "0      SAPS AT SEA <br /><br />Aspect ratio: 1.37:1<b...  negative   \n",
      "1      If you want mindless action, hot chicks and a ...  positive   \n",
      "2      \"The Woman in Black\" is easily one of the cree...  positive   \n",
      "3      I can barely find the words to describe how mu...  negative   \n",
      "4      What's in here ?! Let me tell you. It's the pr...  negative   \n",
      "...                                                  ...       ...   \n",
      "49995  Well-done ghost story that will give you the c...  positive   \n",
      "49996  I'm at a loss for words. This movie is beyond ...  negative   \n",
      "49997  First off, I had my doubts just looking at the...  negative   \n",
      "49998  In an early scene, Luca (David Pasquesi) and J...  positive   \n",
      "49999  I have no idea why people are so crazy about t...  negative   \n",
      "\n",
      "       sentiment_score predicted_sentiment  \n",
      "0            -0.347450            negative  \n",
      "1             1.267694            positive  \n",
      "2            -2.312457            negative  \n",
      "3            -6.182684            negative  \n",
      "4             1.491832            positive  \n",
      "...                ...                 ...  \n",
      "49995        -0.275063            negative  \n",
      "49996        -2.844663            negative  \n",
      "49997         2.147834            positive  \n",
      "49998         4.404780            positive  \n",
      "49999        -2.825535            negative  \n",
      "\n",
      "[50000 rows x 4 columns]\n",
      "Accuracy Score: 68.11%\n"
     ]
    }
   ],
   "source": [
    "# Classify sentiment based on sentiment score\n",
    "df['predicted_sentiment'] = df['sentiment_score'].apply(lambda score: 'positive' if score > 0 else 'negative')\n",
    "\n",
    "# Calculate accuracy score\n",
    "accuracy = accuracy_score(df['sentiment'], df['predicted_sentiment'])\n",
    "\n",
    "# Display the DataFrame with sentiment analysis results and accuracy\n",
    "print(df[['review', 'sentiment', 'sentiment_score', 'predicted_sentiment']])\n",
    "print(f'Accuracy Score: {accuracy:.2%}')"
   ]
  },
  {
   "cell_type": "code",
   "execution_count": 11,
   "metadata": {},
   "outputs": [],
   "source": [
    "from sklearn.metrics import confusion_matrix, classification_report"
   ]
  },
  {
   "cell_type": "code",
   "execution_count": 12,
   "metadata": {},
   "outputs": [
    {
     "name": "stdout",
     "output_type": "stream",
     "text": [
      "Confusion Matrix:\n",
      "[[20479  4521]\n",
      " [11425 13575]]\n",
      "\n",
      "Classification Report:\n",
      "              precision    recall  f1-score   support\n",
      "\n",
      "    negative       0.75      0.54      0.63     25000\n",
      "    positive       0.64      0.82      0.72     25000\n",
      "\n",
      "    accuracy                           0.68     50000\n",
      "   macro avg       0.70      0.68      0.67     50000\n",
      "weighted avg       0.70      0.68      0.67     50000\n",
      "\n"
     ]
    }
   ],
   "source": [
    "# Create confusion matrix\n",
    "conf_matrix = confusion_matrix(df['sentiment'], df['predicted_sentiment'], labels=['positive', 'negative'])\n",
    "\n",
    "# Display the DataFrame with sentiment analysis results, accuracy, and confusion matrix\n",
    "print('Confusion Matrix:')\n",
    "print(conf_matrix)\n",
    "print('\\nClassification Report:')\n",
    "print(classification_report(df['sentiment'], df['predicted_sentiment']))"
   ]
  },
  {
   "cell_type": "code",
   "execution_count": 13,
   "metadata": {},
   "outputs": [],
   "source": [
    "import seaborn as sns\n",
    "import matplotlib.pyplot as plt"
   ]
  },
  {
   "cell_type": "code",
   "execution_count": 14,
   "metadata": {},
   "outputs": [
    {
     "data": {
      "image/png": "[encoded data removed]",
      "text/plain": [
       "<Figure size 640x480 with 2 Axes>"
      ]
     },
     "metadata": {},
     "output_type": "display_data"
    }
   ],
   "source": [
    "sns.heatmap(conf_matrix, annot=True, fmt='d', cmap='Blues', xticklabels=['positive', 'negative'], yticklabels=['positive', 'negative'])\n",
    "plt.title('Confusion Matrix')\n",
    "plt.xlabel('Predicted Label')\n",
    "plt.ylabel('True Label')\n",
    "plt.show()"
   ]
  }
 ],
 "metadata": {
  "kernelspec": {
   "display_name": "Python 3",
   "language": "python",
   "name": "python3"
  },
  "language_info": {
   "codemirror_mode": {
    "name": "ipython",
    "version": 3
   },
   "file_extension": ".py",
   "mimetype": "text/x-python",
   "name": "python",
   "nbconvert_exporter": "python",
   "pygments_lexer": "ipython3",
   "version": "3.10.0"
  }
 },
 "nbformat": 4,
 "nbformat_minor": 2
}
